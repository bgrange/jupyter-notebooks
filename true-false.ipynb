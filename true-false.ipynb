{
 "cells": [
  {
   "cell_type": "code",
   "execution_count": 1,
   "metadata": {},
   "outputs": [
    {
     "name": "stdin",
     "output_type": "stream",
     "text": [
      "True or false? The capital of Sweden is Swedenbourg. F\n",
      "True or false? Two plus two equals five. F\n",
      "True or false? A hamster is a large invertebrate that lives to the age of five-hundred years. F\n",
      "True or false? Mars is the fourth planet from the sun. T\n",
      "True or false? Alan Turing was an early British computer scientist. T\n",
      "True or false? Bananas are yellow. T\n"
     ]
    },
    {
     "name": "stdout",
     "output_type": "stream",
     "text": [
      "Good job! You got 6 right.\n"
     ]
    }
   ],
   "source": [
    "#For python 2.7\n",
    "\n",
    "facts = [(\"The capital of Sweden is Swedenbourg.\", False),\n",
    "         (\"Two plus two equals five.\", False),\n",
    "         (\"A hamster is a large invertebrate that lives to the age of five-hundred years.\", False),\n",
    "         (\"Mars is the fourth planet from the sun.\", True),\n",
    "         (\"Alan Turing was an early British computer scientist.\", True),\n",
    "         (\"Bananas are yellow.\", True)]\n",
    "\n",
    "if __name__ == \"__main__\":\n",
    "    nCorrect = 0\n",
    "    \n",
    "    for proposition,truth_value in facts:\n",
    "        while True:\n",
    "            inp = input(\"True or false? \" + proposition).lower()\n",
    "            if \"true\".startswith(inp):\n",
    "                inp = True\n",
    "                break\n",
    "            elif \"false\".startswith(inp):\n",
    "                inp = False\n",
    "                break\n",
    "            else:\n",
    "                #print(\"I'm sorry, I didn't get that.\")\n",
    "                continue\n",
    "        if inp == truth_value:\n",
    "            #print(\"Correct!\")\n",
    "            nCorrect += 1\n",
    "        else:\n",
    "            pass\n",
    "            #print(\"I'm sorry, that's not correct.\")\n",
    "\n",
    "    print(\"Good job! You got \" + str(nCorrect) + \" right.\")\n"
   ]
  },
  {
   "cell_type": "code",
   "execution_count": null,
   "metadata": {},
   "outputs": [],
   "source": []
  }
 ],
 "metadata": {
  "kernelspec": {
   "display_name": "Python 3",
   "language": "python",
   "name": "python3"
  },
  "language_info": {
   "codemirror_mode": {
    "name": "ipython",
    "version": 3
   },
   "file_extension": ".py",
   "mimetype": "text/x-python",
   "name": "python",
   "nbconvert_exporter": "python",
   "pygments_lexer": "ipython3",
   "version": "3.7.6"
  }
 },
 "nbformat": 4,
 "nbformat_minor": 4
}
